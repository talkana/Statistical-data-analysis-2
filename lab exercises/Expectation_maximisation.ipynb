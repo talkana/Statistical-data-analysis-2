{
  "nbformat": 4,
  "nbformat_minor": 0,
  "metadata": {
    "colab": {
      "provenance": [],
      "collapsed_sections": []
    },
    "kernelspec": {
      "name": "python3",
      "display_name": "Python 3"
    },
    "language_info": {
      "name": "python"
    }
  },
  "cells": [
    {
      "cell_type": "code",
      "source": [
        "import torch\n",
        "import matplotlib.pyplot as plt"
      ],
      "metadata": {
        "id": "Z3h3_uIFE43L"
      },
      "execution_count": 38,
      "outputs": []
    },
    {
      "cell_type": "code",
      "source": [
        "def get_bernoulli_sample_sum(probs, n):\n",
        "  return int(sum(torch.distributions.Bernoulli(probs=probs).expand(\n",
        "      batch_shape = torch.Size([n])).sample()))"
      ],
      "metadata": {
        "id": "FG_jbD2J1tET"
      },
      "execution_count": 39,
      "outputs": []
    },
    {
      "cell_type": "code",
      "source": [
        "def get_points(mean_vector, sd_vector, n):\n",
        "  covariance_matrix = torch.diag(torch.square(sd_vector))\n",
        "  return torch.distributions.multivariate_normal.MultivariateNormal(mean_vector, covariance_matrix=covariance_matrix).expand(batch_shape = torch.Size([n])).sample()"
      ],
      "metadata": {
        "id": "gw0JZnvezSi7"
      },
      "execution_count": 40,
      "outputs": []
    },
    {
      "cell_type": "code",
      "execution_count": 41,
      "metadata": {
        "colab": {
          "base_uri": "https://localhost:8080/"
        },
        "id": "jxdDnLZd9_6i",
        "outputId": "07e6c678-9988-4721-b0c4-f49c78ce1d58"
      },
      "outputs": [
        {
          "output_type": "execute_result",
          "data": {
            "text/plain": [
              "tensor([[-0.7559, -0.8223],\n",
              "        [-0.2260, -0.4030],\n",
              "        [-0.1107, -0.0792],\n",
              "        ...,\n",
              "        [ 1.0827,  1.0936],\n",
              "        [ 1.3145,  0.9981],\n",
              "        [ 1.1519,  1.0200]])"
            ]
          },
          "metadata": {},
          "execution_count": 41
        }
      ],
      "source": [
        "def mouse(M,sds, prop):\n",
        "  head_N = get_bernoulli_sample_sum(prop, M)\n",
        "  ears_N = M - head_N\n",
        "  ear1_N = get_bernoulli_sample_sum(0.5, ears_N)\n",
        "  head_points = get_points(torch.FloatTensor([0, 0]), torch.FloatTensor([sds[0], sds[0]]), head_N)\n",
        "  ear1_points = get_points(torch.FloatTensor([-1, 1]), torch.FloatTensor([sds[1], sds[1]]), ear1_N)\n",
        "  ear2_points = get_points(torch.FloatTensor([1, 1]), torch.FloatTensor([sds[1], sds[1]]), ears_N - ear1_N)\n",
        "  return torch.cat([head_points, ear1_points, ear2_points])\n",
        "\n",
        "sampled_points = mouse(10000, [0.4, 0.2], 0.8)\n",
        "sampled_points"
      ]
    },
    {
      "cell_type": "code",
      "source": [
        "plt.scatter(sampled_points[:,0], sampled_points[:, 1])"
      ],
      "metadata": {
        "colab": {
          "base_uri": "https://localhost:8080/",
          "height": 282
        },
        "id": "rHGlY2J9zP9q",
        "outputId": "ec471c37-9266-4c9c-ef74-b2b38f2d82a7"
      },
      "execution_count": 42,
      "outputs": [
        {
          "output_type": "execute_result",
          "data": {
            "text/plain": [
              "<matplotlib.collections.PathCollection at 0x7f30ead18190>"
            ]
          },
          "metadata": {},
          "execution_count": 42
        },
        {
          "output_type": "display_data",
          "data": {
            "text/plain": [
              "<Figure size 432x288 with 1 Axes>"
            ],
            "image/png": "[encoded data removed]"
          },
          "metadata": {
            "needs_background": "light"
          }
        }
      ]
    },
    {
      "cell_type": "code",
      "source": [],
      "metadata": {
        "id": "5pFZmYutE3Uz"
      },
      "execution_count": 42,
      "outputs": []
    }
  ]
}